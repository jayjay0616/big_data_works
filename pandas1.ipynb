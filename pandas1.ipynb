{
 "cells": [
  {
   "cell_type": "markdown",
   "id": "4975eb20-c486-4935-827e-56f52064045a",
   "metadata": {},
   "source": [
    "### 시리즈\n",
    "데이터가 순차적으로 나열된 1차원 배열(리스트)이다.<br>\n",
    "인덱스(index)는 데이터값(value)와 일대일 대응함."
   ]
  },
  {
   "cell_type": "code",
   "execution_count": 5,
   "id": "8369dbb4-9cb6-4ade-8404-0b53d923f2ae",
   "metadata": {},
   "outputs": [
    {
     "ename": "SyntaxError",
     "evalue": "invalid syntax (1205525513.py, line 2)",
     "output_type": "error",
     "traceback": [
      "\u001b[1;36m  Cell \u001b[1;32mIn[5], line 2\u001b[1;36m\u001b[0m\n\u001b[1;33m    pip install pandas\u001b[0m\n\u001b[1;37m        ^\u001b[0m\n\u001b[1;31mSyntaxError\u001b[0m\u001b[1;31m:\u001b[0m invalid syntax\n"
     ]
    }
   ],
   "source": [
    "# pandas(외부 라이브러리) 설치\n",
    "pip install pandas"
   ]
  },
  {
   "cell_type": "code",
   "execution_count": 15,
   "id": "cfaae78e-5942-4e72-91b5-3d71b65ad376",
   "metadata": {},
   "outputs": [
    {
     "name": "stdout",
     "output_type": "stream",
     "text": [
      "1     사과\n",
      "2      감\n",
      "3    바나나\n",
      "dtype: object\n",
      "Index([1, 2, 3], dtype='int64')\n",
      "<class 'pandas.core.series.Series'>\n"
     ]
    }
   ],
   "source": [
    "import pandas\n",
    "# s = pandas.Series(['사과', '감', '바나나'])\n",
    "s = pandas.Series(['사과', '감', '바나나'], index=[1, 2, 3])\n",
    "print(s)\n",
    "\n",
    "print(s.index)\n",
    "print(type(s))"
   ]
  },
  {
   "cell_type": "code",
   "execution_count": 21,
   "id": "ee742120-716e-418c-bff7-14f23c4f0a96",
   "metadata": {},
   "outputs": [
    {
     "name": "stdout",
     "output_type": "stream",
     "text": [
      "1    3000\n",
      "2    2000\n",
      "3    1000\n",
      "dtype: int64\n"
     ]
    }
   ],
   "source": [
    "import pandas as pd\n",
    "\n",
    "s = pd.Series([3000, 2000, 1000])\n",
    "s.index = [1, 2, 3]\n",
    "print(s)"
   ]
  },
  {
   "cell_type": "markdown",
   "id": "582d7164-05e7-4c2e-bca3-b71f03f52460",
   "metadata": {},
   "source": [
    "### dataframe\n",
    "series를 결합한 형태다.<br>\n",
    "행과 열을 가진 2차원 리스트 형태다."
   ]
  },
  {
   "cell_type": "code",
   "execution_count": 52,
   "id": "37965fae-9ff0-4555-b88a-ac2b85acd40c",
   "metadata": {},
   "outputs": [
    {
     "data": {
      "text/plain": [
       "Index(['name', 'price'], dtype='object')"
      ]
     },
     "execution_count": 52,
     "metadata": {},
     "output_type": "execute_result"
    }
   ],
   "source": [
    "import pandas as pd\n",
    "name = pandas.Series(['사과', '감', '바나나'])\n",
    "price = pd.Series([3000, 2000, 1000])\n",
    "\n",
    "data = {\n",
    "    'name': name,\n",
    "    'price': price\n",
    "}\n",
    "\n",
    "df = pd.DataFrame(data)\n",
    "df\n",
    "type(df)\n",
    "\n",
    "df.columns"
   ]
  },
  {
   "cell_type": "code",
   "execution_count": 76,
   "id": "52a4ecf4-67c9-4093-81c2-05c285d1e7aa",
   "metadata": {},
   "outputs": [
    {
     "name": "stdout",
     "output_type": "stream",
     "text": [
      "    이름    가격\n",
      "0   사과  3000\n",
      "1    감  2000\n",
      "2  바나나  1000\n",
      "    이름    가격    중량\n",
      "0   사과  3000  100g\n",
      "1    감  2000  100g\n",
      "2  바나나  1000  100g\n",
      "<class 'pandas.core.frame.DataFrame'>\n",
      "RangeIndex: 3 entries, 0 to 2\n",
      "Data columns (total 3 columns):\n",
      " #   Column  Non-Null Count  Dtype \n",
      "---  ------  --------------  ----- \n",
      " 0   이름      3 non-null      object\n",
      " 1   가격      3 non-null      int64 \n",
      " 2   중량      3 non-null      object\n",
      "dtypes: int64(1), object(2)\n",
      "memory usage: 204.0+ bytes\n",
      "    이름    가격    중량\n",
      "0   사과  3000  100g\n",
      "1    감  2000  100g\n",
      "2  바나나  1000  100g\n"
     ]
    }
   ],
   "source": [
    "# 방법2 - 데이터 프레임 만들기\n",
    "data = {\n",
    "    'name': ['사과', '감', '바나나'],\n",
    "    'price': [3000, 2000, 1000]\n",
    "}\n",
    "\n",
    "df = pd.DataFrame(data)\n",
    "df\n",
    "\n",
    "# 칼럼 이름 변경 - rename()\n",
    "df_new = df.rename(columns={'name': '이름', 'price': '가격'})\n",
    "print(df_new)\n",
    "\n",
    "# 새 칼럼 추가\n",
    "df_new['중량'] = '100g'\n",
    "print(df_new)\n",
    "\n",
    "# 데이터의 정보\n",
    "df_new.info()\n",
    "\n",
    "# TO_csv(파일이름) : df_new를 CSV 파일로 저장하기(쓰기)\n",
    "df_new.to_csv('fruit.csv', index=False)\n",
    "\n",
    "# read_csv(파일이름) : csv파일 읽기\n",
    "fruit = pd.read_csv('fruit.csv')\n",
    "print(fruit)"
   ]
  },
  {
   "cell_type": "code",
   "execution_count": 90,
   "id": "7602558a-9560-4edf-a4c8-af1aa0fbadcc",
   "metadata": {},
   "outputs": [
    {
     "name": "stdout",
     "output_type": "stream",
     "text": [
      "      메뉴    가격  칼로리\n",
      "0  아메리카노  4500   10\n",
      "1   카페라떼  5000  110\n",
      "2   카페모카  5500  250\n",
      "3   카푸치노  5000  110\n",
      "4  에스프레소  4000   20\n",
      "5    밀크티  5900  210\n",
      "6     녹차  5300    0\n"
     ]
    }
   ],
   "source": [
    "import pandas as pd\n",
    "\n",
    "df = pd.DataFrame({\n",
    "    '메뉴': ['아메리카노', '카페라떼', '카페모카', '카푸치노', '에스프레소', '밀크티', '녹차'],\n",
    "    '가격': [4500, 5000, 5500, 5000, 4000, 5900, 5300],\n",
    "    '칼로리': [10, 110, 250, 110, 20, 210, 0]\n",
    "})\n",
    "print(df)\n",
    "\n",
    "# csv 파일로 저장\n",
    "df.to_csv('data/cafe.csv', index=False)"
   ]
  },
  {
   "cell_type": "code",
   "execution_count": 160,
   "id": "7d684e06-6b83-4c27-a94c-4db11ce68109",
   "metadata": {},
   "outputs": [
    {
     "name": "stdout",
     "output_type": "stream",
     "text": [
      "      메뉴    가격  칼로리\n",
      "0  아메리카노  4500   10\n",
      "1   카페라떼  5000  110\n",
      "2   카페모카  5500  250\n",
      "3   카푸치노  5000  110\n",
      "4  에스프레소  4000   20\n",
      "5    밀크티  5900  210\n",
      "6     녹차  5300    0\n"
     ]
    },
    {
     "data": {
      "text/html": [
       "<div>\n",
       "<style scoped>\n",
       "    .dataframe tbody tr th:only-of-type {\n",
       "        vertical-align: middle;\n",
       "    }\n",
       "\n",
       "    .dataframe tbody tr th {\n",
       "        vertical-align: top;\n",
       "    }\n",
       "\n",
       "    .dataframe thead th {\n",
       "        text-align: right;\n",
       "    }\n",
       "</style>\n",
       "<table border=\"1\" class=\"dataframe\">\n",
       "  <thead>\n",
       "    <tr style=\"text-align: right;\">\n",
       "      <th></th>\n",
       "      <th>메뉴</th>\n",
       "      <th>가격</th>\n",
       "      <th>칼로리</th>\n",
       "      <th>할인가격</th>\n",
       "    </tr>\n",
       "  </thead>\n",
       "  <tbody>\n",
       "    <tr>\n",
       "      <th>0</th>\n",
       "      <td>아메리카노</td>\n",
       "      <td>4500</td>\n",
       "      <td>10.0</td>\n",
       "      <td>3600</td>\n",
       "    </tr>\n",
       "    <tr>\n",
       "      <th>1</th>\n",
       "      <td>카페라떼</td>\n",
       "      <td>5000</td>\n",
       "      <td>110.0</td>\n",
       "      <td>4000</td>\n",
       "    </tr>\n",
       "    <tr>\n",
       "      <th>2</th>\n",
       "      <td>카페모카</td>\n",
       "      <td>5500</td>\n",
       "      <td>250.0</td>\n",
       "      <td>4400</td>\n",
       "    </tr>\n",
       "    <tr>\n",
       "      <th>3</th>\n",
       "      <td>카푸치노</td>\n",
       "      <td>5000</td>\n",
       "      <td>110.0</td>\n",
       "      <td>4000</td>\n",
       "    </tr>\n",
       "    <tr>\n",
       "      <th>4</th>\n",
       "      <td>에스프레소</td>\n",
       "      <td>4000</td>\n",
       "      <td>20.0</td>\n",
       "      <td>3200</td>\n",
       "    </tr>\n",
       "    <tr>\n",
       "      <th>5</th>\n",
       "      <td>밀크티</td>\n",
       "      <td>5900</td>\n",
       "      <td>210.0</td>\n",
       "      <td>4720</td>\n",
       "    </tr>\n",
       "    <tr>\n",
       "      <th>6</th>\n",
       "      <td>녹차</td>\n",
       "      <td>5300</td>\n",
       "      <td>0.0</td>\n",
       "      <td>4240</td>\n",
       "    </tr>\n",
       "  </tbody>\n",
       "</table>\n",
       "</div>"
      ],
      "text/plain": [
       "      메뉴    가격    칼로리  할인가격\n",
       "0  아메리카노  4500   10.0  3600\n",
       "1   카페라떼  5000  110.0  4000\n",
       "2   카페모카  5500  250.0  4400\n",
       "3   카푸치노  5000  110.0  4000\n",
       "4  에스프레소  4000   20.0  3200\n",
       "5    밀크티  5900  210.0  4720\n",
       "6     녹차  5300    0.0  4240"
      ]
     },
     "execution_count": 160,
     "metadata": {},
     "output_type": "execute_result"
    }
   ],
   "source": [
    "df = pd.read_csv('data/cafe.csv')\n",
    "# head(), tail() - 상위 5개, 하위 5개 출력...괄호 안에 갯수를 넣으면 그 만큼 출력됨\n",
    "print(df.head(10))\n",
    "\n",
    "df.describe()  \n",
    "df.describe(include='number')  #숫자칼럼, include='number' 생략 가능\n",
    "df.describe(include='object')  #문자열 칼럼\n",
    "\n",
    "# astype() : 칼로리 자료형 변환 -> 실수형\n",
    "df['칼로리'] = df['칼로리'].astype('float')\n",
    "df['칼로리']\n",
    "\n",
    "# 파생칼럼 생성 - 할인가(가격 20% 할인)\n",
    "df['할인가'] = df['가격'] * 0.8\n",
    "df['할인가'] = df['할인가'].astype('int')\n",
    "df\n",
    "\n",
    "# 할인가를 할인가격으로 이름 변경\n",
    "df = df.rename(columns={'할인가' : '할인가격'})\n",
    "df\n",
    "\n",
    "# df.info()\n",
    "\n",
    "# cafe2.csv로 저장\n",
    "# TO_csv(파일이름) : CSV 파일로 저장하기(쓰기)\n",
    "df.to_csv('data/cafe2.csv', index=False)\n",
    "\n",
    "import pandas as pd\n",
    "\n",
    "df = pd.read_csv('data/cafe2.csv')\n",
    "df"
   ]
  },
  {
   "cell_type": "code",
   "execution_count": null,
   "id": "d8a8e1bb-765a-43eb-a20a-d9c928a5775c",
   "metadata": {},
   "outputs": [],
   "source": []
  }
 ],
 "metadata": {
  "kernelspec": {
   "display_name": "Python 3 (ipykernel)",
   "language": "python",
   "name": "python3"
  },
  "language_info": {
   "codemirror_mode": {
    "name": "ipython",
    "version": 3
   },
   "file_extension": ".py",
   "mimetype": "text/x-python",
   "name": "python",
   "nbconvert_exporter": "python",
   "pygments_lexer": "ipython3",
   "version": "3.12.7"
  }
 },
 "nbformat": 4,
 "nbformat_minor": 5
}
