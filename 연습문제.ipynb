{
 "cells": [
  {
   "cell_type": "code",
   "execution_count": 51,
   "id": "0d9c599b-c6db-408f-839d-0cd0922e2f06",
   "metadata": {},
   "outputs": [
    {
     "name": "stdout",
     "output_type": "stream",
     "text": [
      "<class 'pandas.core.frame.DataFrame'>\n",
      "RangeIndex: 120 entries, 0 to 119\n",
      "Data columns (total 10 columns):\n",
      " #   Column      Non-Null Count  Dtype  \n",
      "---  ------      --------------  -----  \n",
      " 0   id          120 non-null    object \n",
      " 1   age         120 non-null    float64\n",
      " 2   city        120 non-null    object \n",
      " 3   f1          89 non-null     float64\n",
      " 4   f2          120 non-null    int64  \n",
      " 5   f3          91 non-null     object \n",
      " 6   f4          120 non-null    object \n",
      " 7   f5          120 non-null    float64\n",
      " 8   subscribed  120 non-null    object \n",
      " 9   views       116 non-null    float64\n",
      "dtypes: float64(4), int64(1), object(5)\n",
      "memory usage: 9.5+ KB\n",
      "        id    age city    f1  f2    f3    f4         f5  subscribed    views\n",
      "0     id01    2.0   서울   NaN   0  gold  ENFJ  91.297791  2024-07-16   6820.0\n",
      "1     id02    9.0   서울  70.0   1   NaN  ENFJ  60.339826  2024-05-12   2534.0\n",
      "2     id03   27.0   서울  61.0   1  gold  ISTJ  17.252986  2024-03-16   7312.0\n",
      "3     id04   75.0   서울   NaN   2   NaN  INFP  52.667078  2024-07-21    493.0\n",
      "4     id05   24.0   서울  85.0   2   NaN  ISFJ  29.269869  2024-03-07   1338.0\n",
      "..     ...    ...  ...   ...  ..   ...   ...        ...         ...      ...\n",
      "97    id97  100.0   경기   NaN   0  gold  INFP  67.886373  2024-03-18   6687.0\n",
      "98    id98   39.0   경기  58.0   2   NaN  INFP  98.429899  2024-10-02    865.0\n",
      "99    id99    1.0   경기  47.0   0  gold  ESFJ  97.381034  2024-12-02   6090.0\n",
      "100  id100   47.0   경기  53.0   0   vip  ESFP  33.308999  2024-02-21  15535.0\n",
      "101   id68   35.0   경기  45.0   2  gold  ISFP  67.886373  2024-07-29   8599.0\n",
      "\n",
      "[102 rows x 10 columns]\n",
      "42.0\n",
      "<class 'pandas.core.frame.DataFrame'>\n",
      "RangeIndex: 120 entries, 0 to 119\n",
      "Data columns (total 10 columns):\n",
      " #   Column      Non-Null Count  Dtype  \n",
      "---  ------      --------------  -----  \n",
      " 0   id          120 non-null    object \n",
      " 1   age         120 non-null    float64\n",
      " 2   city        120 non-null    object \n",
      " 3   f1          89 non-null     float64\n",
      " 4   f2          120 non-null    int64  \n",
      " 5   f3          91 non-null     object \n",
      " 6   f4          120 non-null    object \n",
      " 7   f5          120 non-null    float64\n",
      " 8   subscribed  120 non-null    object \n",
      " 9   views       120 non-null    float64\n",
      "dtypes: float64(4), int64(1), object(5)\n",
      "memory usage: 9.5+ KB\n",
      "5924\n"
     ]
    }
   ],
   "source": [
    "#작업형 유형1\n",
    "#01\n",
    "import pandas as pd\n",
    "\n",
    "df = pd.read_csv('./data/type1_data1.csv')\n",
    "df.info()\n",
    "df.head()\n",
    "\n",
    "#df['f5'].value_counts()\n",
    "\n",
    "# 0이 아닌 데이터(행)을 구하시오.\n",
    "cond1 = (df['f5'] != 0)\n",
    "print(df[cond1])\n",
    "\n",
    "#views 결측치를 최솟값으로 채워라.\n",
    "min_va1 = df['views'].min()\n",
    "print(min_va1)\n",
    "\n",
    "df['views'] = df['views'].fillna(min_va1)\n",
    "df.info()\n",
    "\n",
    "#중앙값을 구해라.\n",
    "print(int(df['views'].median()))"
   ]
  },
  {
   "cell_type": "code",
   "execution_count": 103,
   "id": "77763b96-c464-4dcf-837f-daa7866c5772",
   "metadata": {},
   "outputs": [
    {
     "name": "stdout",
     "output_type": "stream",
     "text": [
      "subscribed\n",
      "2025-02-17    16\n",
      "2024-06-21     3\n",
      "2024-04-03     2\n",
      "2024-07-29     2\n",
      "2024-05-28     2\n",
      "              ..\n",
      "2024-07-08     1\n",
      "2024-07-20     1\n",
      "2024-06-10     1\n",
      "2024-02-01     1\n",
      "2024-05-20     1\n",
      "Name: count, Length: 96, dtype: int64\n"
     ]
    },
    {
     "data": {
      "text/plain": [
       "17"
      ]
     },
     "execution_count": 103,
     "metadata": {},
     "output_type": "execute_result"
    }
   ],
   "source": [
    "import pandas as pd\n",
    "df = pd.read_csv('./data/type1_data1.csv')\n",
    "\n",
    "df = df['subscribed'].value_counts()\n",
    "print(df)\n",
    "\n",
    "int(df.index[0][-2:])"
   ]
  },
  {
   "cell_type": "code",
   "execution_count": 119,
   "id": "070fdf7d-a184-4837-9ed3-64adb8fb4f70",
   "metadata": {},
   "outputs": [
    {
     "data": {
      "text/plain": [
       "22"
      ]
     },
     "execution_count": 119,
     "metadata": {},
     "output_type": "execute_result"
    }
   ],
   "source": [
    "import pandas as pd\n",
    "df = pd.read_csv('./data/type1_data1.csv')\n",
    "\n",
    "#결측치 제거\n",
    "df = df.dropna()\n",
    "df\n",
    "\n",
    "df['new'] = df['views']/df['f1']\n",
    "df\n",
    "\n",
    "df = df.sort_values('new', ascending=False)\n",
    "df\n",
    "\n",
    "int(df.iloc[0, 1])"
   ]
  },
  {
   "cell_type": "code",
   "execution_count": 141,
   "id": "e03a8628-a860-49e0-8772-ec452a8db4aa",
   "metadata": {},
   "outputs": [
    {
     "name": "stdout",
     "output_type": "stream",
     "text": [
      "        id   age city    f1  f2   f3    f4         f5  subscribed   views\n",
      "5     id06  22.0   서울  57.0   0  vip  INTP  20.129444  2024-09-12  9877.0\n",
      "56    id56  59.0   대구   NaN   1  vip  ESTJ  73.586397  2024-04-05  9877.0\n",
      "83    id83  73.0   경기  50.0   1  vip  ENTP  80.138280  2024-09-26  9877.0\n",
      "32    id32  25.0   부산  64.0   0  vip  ISFJ  13.049921  2024-05-24  9877.0\n",
      "100  id100  47.0   경기  53.0   0  vip  ESFP  33.308999  2024-02-21  9877.0\n",
      "..     ...   ...  ...   ...  ..  ...   ...        ...         ...     ...\n",
      "93    id93  21.8   경기  57.0   0  NaN  ISFP  73.586397  2024-06-07    42.0\n",
      "20    id20  11.0   서울  51.0   1  NaN  INTJ  91.297791  2024-07-16     0.0\n",
      "48    id48  18.0   대구   NaN   0  NaN  ENFP  20.129444  2024-03-25     0.0\n",
      "39    id39  56.0   부산  50.0   0  NaN  INFJ  33.308999  2024-12-22     0.0\n",
      "82    id82  48.0   경기   NaN   0  NaN  ENTJ  37.113739  2024-10-17     0.0\n",
      "\n",
      "[120 rows x 10 columns]\n",
      "652812\n"
     ]
    },
    {
     "name": "stderr",
     "output_type": "stream",
     "text": [
      "C:\\Users\\admin\\AppData\\Local\\Temp\\ipykernel_1688\\2559079712.py:5: FutureWarning: A value is trying to be set on a copy of a DataFrame or Series through chained assignment using an inplace method.\n",
      "The behavior will change in pandas 3.0. This inplace method will never work because the intermediate object on which we are setting values always behaves as a copy.\n",
      "\n",
      "For example, when doing 'df[col].method(value, inplace=True)', try using 'df.method({col: value}, inplace=True)' or df[col] = df[col].method(value) instead, to perform the operation inplace on the original object.\n",
      "\n",
      "\n",
      "  df['views'].fillna(0,\n"
     ]
    }
   ],
   "source": [
    "import pandas as pd\n",
    "df = pd.read_csv('./data/type1_data1.csv')\n",
    "\n",
    "# 결측데이터를 0으로 대체\n",
    "df['views'].fillna(0, \n",
    "                   \n",
    "                   \n",
    "                   \n",
    "                   inplace=True)\n",
    "\n",
    "# 내림차순 정렬\n",
    "df = df.sort_values('views', ascending=False)\n",
    "df\n",
    "\n",
    "views_min = df.iloc[:10]['views'].min()\n",
    "df.iloc[:10, -1] = views_min\n",
    "print(df)\n",
    "\n",
    "print(int(df['views'].sum()))"
   ]
  },
  {
   "cell_type": "code",
   "execution_count": null,
   "id": "28ef6aa9-459a-42f6-8e44-4a365cfcc338",
   "metadata": {},
   "outputs": [],
   "source": []
  }
 ],
 "metadata": {
  "kernelspec": {
   "display_name": "Python 3 (ipykernel)",
   "language": "python",
   "name": "python3"
  },
  "language_info": {
   "codemirror_mode": {
    "name": "ipython",
    "version": 3
   },
   "file_extension": ".py",
   "mimetype": "text/x-python",
   "name": "python",
   "nbconvert_exporter": "python",
   "pygments_lexer": "ipython3",
   "version": "3.12.7"
  }
 },
 "nbformat": 4,
 "nbformat_minor": 5
}
