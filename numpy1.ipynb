{
 "cells": [
  {
   "cell_type": "markdown",
   "id": "63949a60-9961-4556-86af-d900b4642c83",
   "metadata": {},
   "source": [
    "### 넘파이(numpy)\n",
    "다차원 배열(행렬)을 쉽게 처리하고 효율적으로 사용할 수 있도록 지원하는 파이썬 라이브러리<br>\n",
    "수치 해석, 통계 관련 기능을 구현할 때 기본이 되는 모듈임<br>\n",
    "Numerical Python의 줄임말임"
   ]
  },
  {
   "cell_type": "code",
   "execution_count": 34,
   "id": "ab74c1d6-b701-43ff-a112-9f394bfd665f",
   "metadata": {},
   "outputs": [
    {
     "name": "stdout",
     "output_type": "stream",
     "text": [
      "[ 0  1  2  3  4  5  6  7  8  9 10 11 12 13 14]\n",
      "(15,)\n",
      "[ 0  1  2  3  4  5  6  7  8  9 10 11 12 13 14]\n",
      "[[ 0  1  2  3  4]\n",
      " [ 5  6  7  8  9]\n",
      " [10 11 12 13 14]]\n",
      "[[ 5  7  9]\n",
      " [10 12 14]]\n",
      "[[  0   1   2   3   4]\n",
      " [-99   6 -99   8 -99]\n",
      " [-99  11 -99  13 -99]]\n",
      "13\n"
     ]
    }
   ],
   "source": [
    "import numpy as np\n",
    "\n",
    "# 파이썬의 range()\n",
    "# list(range(15))\n",
    "\n",
    "# 넘파이의 arange()\n",
    "x = np.arange(15)\n",
    "print(x)\n",
    "print(x.shape)\n",
    "\n",
    "x2 = x.reshape(3,5)\n",
    "print(x)\n",
    "print(x2)\n",
    "print(x2[1:, ::2])\n",
    "\n",
    "x2[1:, ::2] = -99\n",
    "print(x2)\n",
    "\n",
    "print(x2.max())"
   ]
  },
  {
   "cell_type": "code",
   "execution_count": 42,
   "id": "7646ba2d-a916-4a12-a529-6f2e1dd0f21a",
   "metadata": {},
   "outputs": [
    {
     "name": "stdout",
     "output_type": "stream",
     "text": [
      "[3 1 2]\n",
      "<class 'numpy.ndarray'>\n",
      "(3,)\n",
      "[[1 2 3]\n",
      " [4 5 6]]\n",
      "(2, 3)\n"
     ]
    }
   ],
   "source": [
    "# 넘파이 - array() : 리스트 생성\n",
    "a = [3, 1, 2]\n",
    "x = np.array([3, 1, 2])\n",
    "print(x)\n",
    "print(type(x))\n",
    "print(x.shape)\n",
    "\n",
    "x2 = np.array([[1, 2, 3], [4, 5, 6]])\n",
    "print(x2)\n",
    "print(x2.shape)"
   ]
  },
  {
   "cell_type": "code",
   "execution_count": 44,
   "id": "b2bc7265-5fd4-4d92-af93-e7faa22ba71b",
   "metadata": {},
   "outputs": [
    {
     "name": "stdout",
     "output_type": "stream",
     "text": [
      "[3. 6. 9.]\n"
     ]
    }
   ],
   "source": [
    "# numpy 연산\n",
    "x = np.array([1.0, 2.0, 3.0])\n",
    "y = np.array([2.0, 4.0, 6.0])\n",
    "print(x + y)"
   ]
  },
  {
   "cell_type": "code",
   "execution_count": 50,
   "id": "75d9cc5f-6058-498e-91e2-c59544d6a46f",
   "metadata": {},
   "outputs": [
    {
     "name": "stdout",
     "output_type": "stream",
     "text": [
      "nan\n",
      "<class 'float'>\n",
      "[[0. 0. 0.]\n",
      " [0. 0. 0.]\n",
      " [0. 0. 0.]]\n",
      "[[1. 1. 1.]\n",
      " [1. 1. 1.]]\n"
     ]
    }
   ],
   "source": [
    "a = np.nan\n",
    "print(a)\n",
    "print(type(a))\n",
    "\n",
    "a2 = np.zeros((3, 3))\n",
    "print(a2)\n",
    "\n",
    "a3 = np.ones((2, 3))\n",
    "print(a3)"
   ]
  },
  {
   "cell_type": "code",
   "execution_count": null,
   "id": "321b3f83-773e-4125-8372-57386180381d",
   "metadata": {},
   "outputs": [],
   "source": []
  }
 ],
 "metadata": {
  "kernelspec": {
   "display_name": "Python 3 (ipykernel)",
   "language": "python",
   "name": "python3"
  },
  "language_info": {
   "codemirror_mode": {
    "name": "ipython",
    "version": 3
   },
   "file_extension": ".py",
   "mimetype": "text/x-python",
   "name": "python",
   "nbconvert_exporter": "python",
   "pygments_lexer": "ipython3",
   "version": "3.12.7"
  }
 },
 "nbformat": 4,
 "nbformat_minor": 5
}
