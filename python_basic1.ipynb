{
 "cells": [
  {
   "cell_type": "code",
   "execution_count": 93,
   "id": "4cb0f493-fbcc-46f3-ab11-bda266dd5f93",
   "metadata": {
    "scrolled": true
   },
   "outputs": [
    {
     "name": "stdout",
     "output_type": "stream",
     "text": [
      "안녕\n"
     ]
    }
   ],
   "source": [
    "print(\"안녕\")"
   ]
  },
  {
   "cell_type": "code",
   "execution_count": 95,
   "id": "bc41fa4f-7879-4da2-830a-bed69e33c3bf",
   "metadata": {},
   "outputs": [
    {
     "name": "stdout",
     "output_type": "stream",
     "text": [
      "123\n"
     ]
    }
   ],
   "source": [
    "print(123)"
   ]
  },
  {
   "cell_type": "code",
   "execution_count": 5,
   "id": "43175e3f-73a6-46c1-8e30-ff42c3b94695",
   "metadata": {},
   "outputs": [
    {
     "name": "stdout",
     "output_type": "stream",
     "text": [
      "안녕! 시나공\n"
     ]
    }
   ],
   "source": [
    "print(\"안녕! 시나공\")"
   ]
  },
  {
   "cell_type": "code",
   "execution_count": 7,
   "id": "359c1da2-50d2-42a1-8348-a5b63dd06c6d",
   "metadata": {},
   "outputs": [
    {
     "data": {
      "text/plain": [
       "'당신의 합격을 기원합니다.'"
      ]
     },
     "execution_count": 7,
     "metadata": {},
     "output_type": "execute_result"
    }
   ],
   "source": [
    "\"길벗은\"\n",
    "\"당신의 합격을 기원합니다.\""
   ]
  },
  {
   "cell_type": "code",
   "execution_count": 9,
   "id": "a4578b5c-5dcd-461c-858a-5240f5762151",
   "metadata": {},
   "outputs": [
    {
     "name": "stdout",
     "output_type": "stream",
     "text": [
      "2.54\n"
     ]
    }
   ],
   "source": [
    "print(2.54)"
   ]
  },
  {
   "cell_type": "code",
   "execution_count": 11,
   "id": "58c6b904-9878-4c97-a53f-54dbf24fc909",
   "metadata": {},
   "outputs": [
    {
     "data": {
      "text/plain": [
       "'정정호'"
      ]
     },
     "execution_count": 11,
     "metadata": {},
     "output_type": "execute_result"
    }
   ],
   "source": [
    "\"정정호\""
   ]
  },
  {
   "cell_type": "code",
   "execution_count": 17,
   "id": "62bb02b1-add2-48a4-afde-4282b8d5845b",
   "metadata": {},
   "outputs": [
    {
     "data": {
      "text/plain": [
       "5.333333333333333"
      ]
     },
     "execution_count": 17,
     "metadata": {},
     "output_type": "execute_result"
    }
   ],
   "source": [
    "#산술연산\n",
    "16/3"
   ]
  },
  {
   "cell_type": "code",
   "execution_count": 25,
   "id": "04754bbf-1255-4c81-8927-10038921fc0c",
   "metadata": {},
   "outputs": [
    {
     "data": {
      "text/plain": [
       "5"
      ]
     },
     "execution_count": 25,
     "metadata": {},
     "output_type": "execute_result"
    }
   ],
   "source": [
    "16//3"
   ]
  },
  {
   "cell_type": "code",
   "execution_count": 29,
   "id": "787c570a-26f3-4550-9c56-168da0edb595",
   "metadata": {},
   "outputs": [
    {
     "data": {
      "text/plain": [
       "1"
      ]
     },
     "execution_count": 29,
     "metadata": {},
     "output_type": "execute_result"
    }
   ],
   "source": [
    "16%3"
   ]
  },
  {
   "cell_type": "code",
   "execution_count": 31,
   "id": "8e5e6079-7611-4c36-a692-646e23b27f85",
   "metadata": {},
   "outputs": [
    {
     "name": "stdout",
     "output_type": "stream",
     "text": [
      "5.333333333333333\n"
     ]
    }
   ],
   "source": [
    "print(16/3)"
   ]
  },
  {
   "cell_type": "code",
   "execution_count": 33,
   "id": "d9026d34-eaca-4cea-9886-613868c5dfef",
   "metadata": {},
   "outputs": [
    {
     "name": "stdout",
     "output_type": "stream",
     "text": [
      "14\n"
     ]
    }
   ],
   "source": [
    "print((4+3)*2)"
   ]
  },
  {
   "cell_type": "code",
   "execution_count": 35,
   "id": "c06a1d25-e093-4824-86fe-776be5f997dd",
   "metadata": {},
   "outputs": [
    {
     "name": "stdout",
     "output_type": "stream",
     "text": [
      "python\n"
     ]
    }
   ],
   "source": [
    "print(\"py\"+\"thon\")"
   ]
  },
  {
   "cell_type": "code",
   "execution_count": 39,
   "id": "fd6a4d9c-ac80-4972-95d4-537d4e269545",
   "metadata": {},
   "outputs": [],
   "source": [
    "#str() - 숫자를 문자로 변환"
   ]
  },
  {
   "cell_type": "code",
   "execution_count": 41,
   "id": "a03750d9-77e3-4ac2-bc9e-14011fc8ad54",
   "metadata": {},
   "outputs": [
    {
     "name": "stdout",
     "output_type": "stream",
     "text": [
      "py3\n"
     ]
    }
   ],
   "source": [
    "print(\"py\"+ str(3))"
   ]
  },
  {
   "cell_type": "code",
   "execution_count": 43,
   "id": "f3f2d235-b044-465f-8e7d-3a14b27e7228",
   "metadata": {},
   "outputs": [
    {
     "name": "stdout",
     "output_type": "stream",
     "text": [
      "py3\n"
     ]
    }
   ],
   "source": [
    "print(\"py\"+\"3\")"
   ]
  },
  {
   "cell_type": "code",
   "execution_count": 45,
   "id": "50777356-2e98-4482-9d45-893d8ce4315e",
   "metadata": {},
   "outputs": [
    {
     "data": {
      "text/plain": [
       "int"
      ]
     },
     "execution_count": 45,
     "metadata": {},
     "output_type": "execute_result"
    }
   ],
   "source": [
    "#type() - 자료형을 확인\n",
    "type(3)"
   ]
  },
  {
   "cell_type": "code",
   "execution_count": 47,
   "id": "089aec51-ad3e-415d-820b-3e5b0420faad",
   "metadata": {},
   "outputs": [
    {
     "data": {
      "text/plain": [
       "float"
      ]
     },
     "execution_count": 47,
     "metadata": {},
     "output_type": "execute_result"
    }
   ],
   "source": [
    "type(3.1)"
   ]
  },
  {
   "cell_type": "code",
   "execution_count": 49,
   "id": "b2192d8d-30e6-4b1a-a9e6-0f694ef9c6c9",
   "metadata": {},
   "outputs": [
    {
     "data": {
      "text/plain": [
       "4"
      ]
     },
     "execution_count": 49,
     "metadata": {},
     "output_type": "execute_result"
    }
   ],
   "source": [
    "#4.4 -> 4로 남기고 싶을 때\n",
    "int(4.4)"
   ]
  },
  {
   "cell_type": "code",
   "execution_count": 63,
   "id": "d0849a0b-43c5-42c1-a64d-c7c7b67ec94f",
   "metadata": {},
   "outputs": [
    {
     "data": {
      "text/plain": [
       "bool"
      ]
     },
     "execution_count": 63,
     "metadata": {},
     "output_type": "execute_result"
    }
   ],
   "source": [
    "type(True)"
   ]
  },
  {
   "cell_type": "code",
   "execution_count": 75,
   "id": "f3e3164e-b51f-44a4-b2b0-3b91a85f2b2d",
   "metadata": {},
   "outputs": [
    {
     "data": {
      "text/plain": [
       "False"
      ]
     },
     "execution_count": 75,
     "metadata": {},
     "output_type": "execute_result"
    }
   ],
   "source": [
    "type(True)\n",
    "type(5 < 10)\n",
    "5 > 10"
   ]
  },
  {
   "cell_type": "code",
   "execution_count": 69,
   "id": "ee8c9d70-3db2-49da-82c3-a719e4ba15b8",
   "metadata": {},
   "outputs": [
    {
     "data": {
      "text/plain": [
       "True"
      ]
     },
     "execution_count": 69,
     "metadata": {},
     "output_type": "execute_result"
    }
   ],
   "source": [
    "type(True)\n",
    "type(5 < 10)\n",
    "5 < 10"
   ]
  },
  {
   "cell_type": "code",
   "execution_count": 79,
   "id": "719ef212-d79a-4cfc-a7e9-b619f5536236",
   "metadata": {},
   "outputs": [],
   "source": [
    "#### 변수(Variable)\n",
    "메모리에 어떤 값을 저장하기 위한 공간, 값은 1개만 저장됨"
   ]
  },
  {
   "cell_type": "code",
   "execution_count": 89,
   "id": "1bad155a-5c64-40ab-99a4-d755393812b5",
   "metadata": {},
   "outputs": [
    {
     "name": "stdout",
     "output_type": "stream",
     "text": [
      "11\n"
     ]
    }
   ],
   "source": [
    "num = 10\n",
    "num = num+1\n",
    "print(num)"
   ]
  },
  {
   "cell_type": "code",
   "execution_count": 99,
   "id": "39f1f8c6-c472-4029-bfd0-1bfcc3082bb7",
   "metadata": {},
   "outputs": [
    {
     "name": "stdout",
     "output_type": "stream",
     "text": [
      "한강\n"
     ]
    }
   ],
   "source": [
    "name = \"한강\"\n",
    "print(name)"
   ]
  },
  {
   "cell_type": "code",
   "execution_count": 101,
   "id": "cee16bea-830e-4875-bcb7-155f88448794",
   "metadata": {},
   "outputs": [
    {
     "name": "stdout",
     "output_type": "stream",
     "text": [
      "4500\n",
      "americano\n"
     ]
    }
   ],
   "source": [
    "americano=4500\n",
    "print(americano)\n",
    "print(\"americano\")"
   ]
  },
  {
   "cell_type": "code",
   "execution_count": 103,
   "id": "8051e9e6-58e8-49f4-8c66-bc528832a10f",
   "metadata": {},
   "outputs": [
    {
     "name": "stdout",
     "output_type": "stream",
     "text": [
      "9500\n"
     ]
    }
   ],
   "source": [
    "latte=5000\n",
    "print(americano+latte)"
   ]
  },
  {
   "cell_type": "code",
   "execution_count": 105,
   "id": "d438bca8-f0ac-4a9f-aad3-c96fbeafd4be",
   "metadata": {},
   "outputs": [
    {
     "name": "stdout",
     "output_type": "stream",
     "text": [
      "10 11\n"
     ]
    }
   ],
   "source": [
    "a, b = 10, 11\n",
    "print(a, b)"
   ]
  },
  {
   "cell_type": "code",
   "execution_count": 115,
   "id": "faf8186b-8718-4abd-93ec-468d0337772e",
   "metadata": {},
   "outputs": [
    {
     "data": {
      "text/plain": [
       "float"
      ]
     },
     "execution_count": 115,
     "metadata": {},
     "output_type": "execute_result"
    }
   ],
   "source": [
    "a=2\n",
    "b=0.17\n",
    "a=a+b\n",
    "type(a)"
   ]
  },
  {
   "cell_type": "code",
   "execution_count": 123,
   "id": "cd12aae1-a672-4651-9c3d-993d5e68078d",
   "metadata": {},
   "outputs": [
    {
     "name": "stdout",
     "output_type": "stream",
     "text": [
      "문자열: 2.17\n",
      "정수형: 2\n"
     ]
    }
   ],
   "source": [
    "box = 2.17\n",
    "print(\"문자열:\", str(box))\n",
    "print(\"정수형:\", int(box))"
   ]
  },
  {
   "cell_type": "code",
   "execution_count": 129,
   "id": "a4e12144-e39f-456d-a41c-9203c373f0aa",
   "metadata": {},
   "outputs": [
    {
     "data": {
      "text/plain": [
       "True"
      ]
     },
     "execution_count": 129,
     "metadata": {},
     "output_type": "execute_result"
    }
   ],
   "source": [
    "10 != 11"
   ]
  },
  {
   "cell_type": "code",
   "execution_count": 183,
   "id": "1a688722-92aa-4f15-b04e-332adc73f9be",
   "metadata": {},
   "outputs": [
    {
     "name": "stdin",
     "output_type": "stream",
     "text": [
      "입력: 20\n"
     ]
    },
    {
     "name": "stdout",
     "output_type": "stream",
     "text": [
      "pass\n"
     ]
    }
   ],
   "source": [
    "score = input(\"입력:\")\n",
    "score = float(score)\n",
    "\n",
    "if score >= 10:\n",
    "    print(\"pass\")\n",
    "else:\n",
    "    print(\"fail\")"
   ]
  },
  {
   "cell_type": "code",
   "execution_count": 179,
   "id": "77ee688d-9873-49be-bd21-0f3e1db3d9d9",
   "metadata": {},
   "outputs": [
    {
     "name": "stdin",
     "output_type": "stream",
     "text": [
      "입력: 20\n"
     ]
    },
    {
     "ename": "TypeError",
     "evalue": "'int' object is not callable",
     "output_type": "error",
     "traceback": [
      "\u001b[1;31m---------------------------------------------------------------------------\u001b[0m",
      "\u001b[1;31mTypeError\u001b[0m                                 Traceback (most recent call last)",
      "Cell \u001b[1;32mIn[179], line 6\u001b[0m\n\u001b[0;32m      1\u001b[0m \u001b[38;5;66;03m#조건문\u001b[39;00m\n\u001b[0;32m      2\u001b[0m \u001b[38;5;66;03m#if문\u001b[39;00m\n\u001b[0;32m      3\u001b[0m \u001b[38;5;66;03m# score = int(input(\"score\"))\u001b[39;00m\n\u001b[0;32m      4\u001b[0m \u001b[38;5;66;03m# score = 10\u001b[39;00m\n\u001b[0;32m      5\u001b[0m score \u001b[38;5;241m=\u001b[39m \u001b[38;5;28minput\u001b[39m(\u001b[38;5;124m\"\u001b[39m\u001b[38;5;124m입력:\u001b[39m\u001b[38;5;124m\"\u001b[39m)\n\u001b[1;32m----> 6\u001b[0m score \u001b[38;5;241m=\u001b[39m \u001b[38;5;28mint\u001b[39m(score)\n\u001b[0;32m      8\u001b[0m \u001b[38;5;28;01mif\u001b[39;00m score \u001b[38;5;241m>\u001b[39m\u001b[38;5;241m=\u001b[39m \u001b[38;5;241m10\u001b[39m:\n\u001b[0;32m      9\u001b[0m     \u001b[38;5;28mprint\u001b[39m(\u001b[38;5;124m\"\u001b[39m\u001b[38;5;124mpass\u001b[39m\u001b[38;5;124m\"\u001b[39m)\n",
      "\u001b[1;31mTypeError\u001b[0m: 'int' object is not callable"
     ]
    }
   ],
   "source": [
    "#조건문\n",
    "#if문\n",
    "# score = int(input(\"score\"))\n",
    "# score = 10\n",
    "score = input(\"입력:\")\n",
    "score = int(score)\n",
    "\n",
    "if score >= 10:\n",
    "    print(\"pass\")\n",
    "else:\n",
    "    print(\"fail\")"
   ]
  },
  {
   "cell_type": "code",
   "execution_count": 193,
   "id": "f39b9f74-5878-4b98-9dd2-f057a966abdb",
   "metadata": {},
   "outputs": [
    {
     "name": "stdin",
     "output_type": "stream",
     "text": [
      "점수 입력: 90\n"
     ]
    },
    {
     "name": "stdout",
     "output_type": "stream",
     "text": [
      "a\n"
     ]
    }
   ],
   "source": [
    "점수=float(input(\"점수 입력:\"))\n",
    "if 점수 >= 90 and 점수 <= 100:\n",
    "    print('a')\n",
    "elif 점수 >= 80:\n",
    "    print('b')\n",
    "elif 점수 >= 70:\n",
    "    print('c')\n",
    "else:\n",
    "    print('d')"
   ]
  },
  {
   "cell_type": "code",
   "execution_count": 207,
   "id": "4d2c0a16-255a-4335-a122-46aa1d0ce8ce",
   "metadata": {},
   "outputs": [
    {
     "ename": "SyntaxError",
     "evalue": "invalid syntax (1700651528.py, line 2)",
     "output_type": "error",
     "traceback": [
      "\u001b[1;36m  Cell \u001b[1;32mIn[207], line 2\u001b[1;36m\u001b[0m\n\u001b[1;33m    여러 개의 데이터를 저장하는 공간<br>\u001b[0m\n\u001b[1;37m       ^\u001b[0m\n\u001b[1;31mSyntaxError\u001b[0m\u001b[1;31m:\u001b[0m invalid syntax\n"
     ]
    }
   ],
   "source": [
    "### 리스트(list)\n",
    "여러 개의 데이터를 저장하는 공간<br>\n",
    "순서(인덱스)가 있어서 자료에 접근할 수 있음\n",
    "###"
   ]
  },
  {
   "cell_type": "code",
   "execution_count": 199,
   "id": "2d323c6f-3ec4-449e-91e9-cf5759cd1f45",
   "metadata": {},
   "outputs": [
    {
     "name": "stdout",
     "output_type": "stream",
     "text": [
      "[4, 2, 10, 5, 8]\n"
     ]
    }
   ],
   "source": [
    "#리스트\n",
    "listbox = [4, 2, 10, 5, 8]\n",
    "type(listbox)\n",
    "#데이터 접근 인덱싱\n",
    "print(listbox)"
   ]
  },
  {
   "cell_type": "code",
   "execution_count": 205,
   "id": "a7c78d1d-7297-47ad-8b95-ed78f4e40af4",
   "metadata": {},
   "outputs": [
    {
     "name": "stdout",
     "output_type": "stream",
     "text": [
      "4\n",
      "8\n"
     ]
    }
   ],
   "source": [
    "print(listbox[0])\n",
    "print(listbox[-1])"
   ]
  },
  {
   "cell_type": "code",
   "execution_count": 209,
   "id": "221c3862-7718-4623-83f5-5765b42ef2b9",
   "metadata": {},
   "outputs": [
    {
     "name": "stdout",
     "output_type": "stream",
     "text": [
      "[4, 2, 10, 5, 8, 20]\n"
     ]
    }
   ],
   "source": [
    "#요소(값) 추가\n",
    "listbox.append(20)\n",
    "print(listbox)"
   ]
  },
  {
   "cell_type": "code",
   "execution_count": 211,
   "id": "83ff7f23-5827-4353-8ced-805712340773",
   "metadata": {},
   "outputs": [
    {
     "name": "stdout",
     "output_type": "stream",
     "text": [
      "[4, 2, 1, 5, 8, 20]\n"
     ]
    }
   ],
   "source": [
    "# 요소(값) 수정\n",
    "listbox[2] = 1\n",
    "print(listbox)"
   ]
  },
  {
   "cell_type": "code",
   "execution_count": 213,
   "id": "69b66d7b-ba36-44d0-b16b-40f580a46ee4",
   "metadata": {},
   "outputs": [
    {
     "name": "stdout",
     "output_type": "stream",
     "text": [
      "[4, 2, 1, 5, 8]\n"
     ]
    }
   ],
   "source": [
    "# 요소(값) 삭제\n",
    "listbox.pop()\n",
    "print(listbox)"
   ]
  },
  {
   "cell_type": "code",
   "execution_count": 219,
   "id": "a19b6497-d2d9-4388-a324-04adff4b5c14",
   "metadata": {},
   "outputs": [
    {
     "name": "stdout",
     "output_type": "stream",
     "text": [
      "['감', '바나나', '사과']\n"
     ]
    }
   ],
   "source": [
    "# 리스트\n",
    "fruits = [] # 빈 배열\n",
    "fruits.append(\"감\")\n",
    "fruits.append(\"바나나\")\n",
    "fruits.append(\"사과\")\n",
    "print(fruits)"
   ]
  },
  {
   "cell_type": "code",
   "execution_count": 221,
   "id": "84bcb98b-d9f2-499d-8856-4c3025b6bccc",
   "metadata": {},
   "outputs": [
    {
     "name": "stdout",
     "output_type": "stream",
     "text": [
      "['감', '파인애플', '사과']\n"
     ]
    }
   ],
   "source": [
    "fruits[1] = \"파인애플\"\n",
    "print(fruits)"
   ]
  },
  {
   "cell_type": "code",
   "execution_count": null,
   "id": "44b00c1f-94e4-42e3-be6f-14c4e276b3e6",
   "metadata": {},
   "outputs": [],
   "source": []
  }
 ],
 "metadata": {
  "kernelspec": {
   "display_name": "Python 3 (ipykernel)",
   "language": "python",
   "name": "python3"
  },
  "language_info": {
   "codemirror_mode": {
    "name": "ipython",
    "version": 3
   },
   "file_extension": ".py",
   "mimetype": "text/x-python",
   "name": "python",
   "nbconvert_exporter": "python",
   "pygments_lexer": "ipython3",
   "version": "3.12.7"
  }
 },
 "nbformat": 4,
 "nbformat_minor": 5
}
