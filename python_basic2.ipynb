{
 "cells": [
  {
   "cell_type": "markdown",
   "id": "2ba4bf8b-8a54-4f3d-bc22-7307b52b4869",
   "metadata": {},
   "source": [
    "### 반복문(for문)"
   ]
  },
  {
   "cell_type": "code",
   "execution_count": 57,
   "id": "5a2e4a39-a148-4203-9511-778fbc4c14d6",
   "metadata": {},
   "outputs": [
    {
     "name": "stdout",
     "output_type": "stream",
     "text": [
      "1\n",
      "3\n",
      "5\n",
      "7\n",
      "9\n",
      "True\n",
      "False\n",
      "사과\n",
      "바나나\n",
      "감\n",
      "[1, 2, 3, 4, 5, 6, 7, 8, 9, 10]\n"
     ]
    }
   ],
   "source": [
    "###\n",
    "# range()\n",
    "range(1,10)\n",
    "list(range(1,10)) #시작인덱스, 끝인스스\n",
    "list(range(10))  # 시작인덱스가 없으면 0부터 시작\n",
    "\n",
    "for i in range(1,11,2):  #시작인덱스, 끝인덱스, 간격(step)\n",
    "    print(i)\n",
    "\n",
    "# for ~ in 리트트\n",
    "word = ['사과', '바나나', '감']\n",
    "print('사과' in word)\n",
    "print('딸기' in word)\n",
    "\n",
    "for i in word:\n",
    "    print(i)\n",
    "###\n",
    "\n",
    "# 리스트 : 1~10 저장\n",
    "number = []\n",
    "for i in range(1,11):\n",
    "    number.append(i)\n",
    "print(number)"
   ]
  },
  {
   "cell_type": "markdown",
   "id": "8756b753-e052-41fb-be4e-ea31baaedf46",
   "metadata": {},
   "source": [
    "# 딕셔너리"
   ]
  },
  {
   "cell_type": "code",
   "execution_count": 60,
   "id": "4916e5a4-009e-43c4-946d-efed023e963f",
   "metadata": {
    "scrolled": true
   },
   "outputs": [
    {
     "ename": "SyntaxError",
     "evalue": "invalid syntax (2129687255.py, line 2)",
     "output_type": "error",
     "traceback": [
      "\u001b[1;36m  Cell \u001b[1;32mIn[60], line 2\u001b[1;36m\u001b[0m\n\u001b[1;33m    순서가 없음. 키를 통해서 값에 접근한다. 중괄호({}) 사용\u001b[0m\n\u001b[1;37m        ^\u001b[0m\n\u001b[1;31mSyntaxError\u001b[0m\u001b[1;31m:\u001b[0m invalid syntax\n"
     ]
    }
   ],
   "source": [
    "### 키와 값으로 이루어진 자료형<br>\n",
    "순서가 없음. 키를 통해서 값에 접근한다. 중괄호({}) 사용"
   ]
  },
  {
   "cell_type": "code",
   "execution_count": 76,
   "id": "c0ea49c0-5b4b-4e91-a64c-d6474904ee8e",
   "metadata": {},
   "outputs": [
    {
     "name": "stdout",
     "output_type": "stream",
     "text": [
      "{'name': '쿠키', 'level': 5}\n",
      "dict_keys(['name', 'level'])\n",
      "dict_values(['쿠키', 5])\n",
      "{'name': '쿠키', 'level': 5, 'id': 'cookie'}\n",
      "{'name': 'jerry', 'level': 5, 'id': 'cookie'}\n",
      "{'name': 'jerry', 'id': 'cookie'}\n"
     ]
    }
   ],
   "source": [
    "dictbox = {\"name\": \"쿠키\", 'level': 5}\n",
    "print(dictbox)\n",
    "type(dictbox)\n",
    "\n",
    "#키, 값\n",
    "print(dictbox.keys())\n",
    "print(dictbox.values())\n",
    "\n",
    "dictbox['name']\n",
    "dictbox['level']\n",
    "\n",
    "# 값 추가\n",
    "dictbox['id'] = 'cookie'\n",
    "print(dictbox)\n",
    "\n",
    "# 값 변경\n",
    "dictbox['name'] = 'jerry'\n",
    "print(dictbox)\n",
    "\n",
    "# 값 삭제\n",
    "del dictbox['level']\n",
    "print(dictbox)"
   ]
  },
  {
   "cell_type": "code",
   "execution_count": 90,
   "id": "e433296e-a1fa-44c9-9d29-8117edbeff79",
   "metadata": {},
   "outputs": [
    {
     "name": "stdout",
     "output_type": "stream",
     "text": [
      "{'요리': ['분식', '한식', '중식'], '점포수': [4, 5, 2]}\n",
      "한식\n",
      "5\n"
     ]
    }
   ],
   "source": [
    "# 딕셔너리(값이 여러 개 - 리스트와 연동)\n",
    "cook = ['분식', '한식', '중식']\n",
    "number = [4, 5, 2]\n",
    "\n",
    "store = {\n",
    "    '요리' : cook, \n",
    "    '점포수' : number\n",
    "}\n",
    "print(store)\n",
    "\n",
    "# 한식을 조회\n",
    "print(store['요리'][1])\n",
    "\n",
    "# 한식 점포수\n",
    "print(store['점포수'][1])"
   ]
  },
  {
   "cell_type": "code",
   "execution_count": 110,
   "id": "f43cb5f4-b614-4bfe-a731-ed7869331e83",
   "metadata": {},
   "outputs": [
    {
     "name": "stdout",
     "output_type": "stream",
     "text": [
      "[2, 4, 6]\n",
      "[2, 4, 6]\n",
      "[6, 8, 10]\n",
      "[2, 4, 6, 8, 10]\n",
      "[2, 4, 6, 8]\n",
      "[2, 6, 10]\n"
     ]
    }
   ],
   "source": [
    "# 인덱싱과 슬라이싱\n",
    "number = [2, 4, 6, 8, 10]\n",
    "\n",
    "print(number[0:3]) # 0번, 1번, 2번\n",
    "print(number[:3]) # 0은 생략 가능\n",
    "print(number[2:]) # 2번부터 끝까지\n",
    "print(number[:]) # 전체\n",
    "print(number[:-1]) # 끝에서 하나 앞번\n",
    "print(number[::2]) # 하나 건너뛰어서 출력(기본이 1), 간격이 2"
   ]
  },
  {
   "cell_type": "markdown",
   "id": "daed1602-abb6-485e-82d0-ab56d86c80dd",
   "metadata": {},
   "source": [
    "### 튜플\n",
    "여러 개의 자료를 저장하는 자료형 구조<br>\n",
    "요소를 수정하거나 삭제할 수 없다.<br>\n",
    "접근(조회)은 가능하다."
   ]
  },
  {
   "cell_type": "code",
   "execution_count": 128,
   "id": "7229fbfe-4907-4dce-b4e7-a12715ec2a6a",
   "metadata": {},
   "outputs": [
    {
     "name": "stdout",
     "output_type": "stream",
     "text": [
      "(1, 2, 3)\n",
      "<class 'tuple'>\n",
      "1\n",
      "(3,)\n",
      "<class 'tuple'>\n"
     ]
    }
   ],
   "source": [
    "# 튜플\n",
    "a = (1, 2, 3)\n",
    "print(a)\n",
    "print(type(a))\n",
    "print(a[0])\n",
    "\n",
    "b = (3,) # 값이 한 개일 경우 콤마(,)를 넣어줘야 튜블로 인식한다.\n",
    "print(b)\n",
    "print(type(b))"
   ]
  },
  {
   "cell_type": "code",
   "execution_count": 140,
   "id": "dcf5e83e-58eb-4821-826c-80543aa684e0",
   "metadata": {},
   "outputs": [
    {
     "name": "stdout",
     "output_type": "stream",
     "text": [
      "칼럼: age\n",
      "칼럼: age\n",
      "칼럼: age\n"
     ]
    }
   ],
   "source": [
    "colum = 'age'\n",
    "print('칼럼:', colum)  # 인자 2개\n",
    "print('칼럼: ' + colum)  # 연결 연산자\n",
    "print(f'칼럼: {colum}')  # f포맷 방식"
   ]
  },
  {
   "cell_type": "code",
   "execution_count": 154,
   "id": "93a9845b-be49-485a-a84a-28ca87f87373",
   "metadata": {},
   "outputs": [
    {
     "name": "stdout",
     "output_type": "stream",
     "text": [
      "<class 'list'>\n",
      "개수: 4\n",
      "합계: 22\n",
      "최대값: 10\n",
      "최소값: 2\n",
      "평균값: 5.5\n"
     ]
    }
   ],
   "source": [
    "# 내장함수\n",
    "# len(), sum(), max(), min(), int(), str()\n",
    "\n",
    "number = [4, 2, 10, 6]\n",
    "print(type(number))\n",
    "print(f'개수: {len(number)}')\n",
    "print(f'합계: {sum(number)}')\n",
    "print(f'최대값: {max(number)}')\n",
    "print(f'최소값: {min(number)}')\n",
    "\n",
    "#평균\n",
    "avg = sum(number) / len(number)\n",
    "print('평균값:', avg)"
   ]
  },
  {
   "cell_type": "code",
   "execution_count": 179,
   "id": "33c8a85d-aaad-4e08-8892-ba2de89065b8",
   "metadata": {},
   "outputs": [
    {
     "name": "stdout",
     "output_type": "stream",
     "text": [
      "안녕 한강\n",
      "안녕 샐리\n",
      "안녕 dd\n",
      "None\n"
     ]
    }
   ],
   "source": [
    "# 사용자 정의 함수 - def문\n",
    "def hello():\n",
    "    print('안녕')\n",
    "\n",
    "def hello2(name):\n",
    "    print('안녕', name)\n",
    "\n",
    "hello2('한강')\n",
    "hello2('샐리')"
   ]
  },
  {
   "cell_type": "code",
   "execution_count": 190,
   "id": "8776c194-246e-4cd0-a04c-d56a5a7ec6e2",
   "metadata": {},
   "outputs": [
    {
     "name": "stdout",
     "output_type": "stream",
     "text": [
      "16\n",
      "5\n"
     ]
    }
   ],
   "source": [
    "# retune이 있는 함수\n",
    "def squre(x):\n",
    "    return x * x\n",
    "\n",
    "def plus(x, y):\n",
    "    return x + y\n",
    "\n",
    "result = squre(4)\n",
    "print(result)\n",
    "\n",
    "result2 = plus(2, 3)\n",
    "print(result2)"
   ]
  },
  {
   "cell_type": "code",
   "execution_count": 219,
   "id": "3a699c42-e6b7-453e-81c0-ab4192ea438a",
   "metadata": {},
   "outputs": [
    {
     "name": "stdout",
     "output_type": "stream",
     "text": [
      "15 78\n",
      "63\n",
      "43.8\n"
     ]
    }
   ],
   "source": [
    "# 함수의 매개변수로 리스트를 전달\n",
    "listbox = [15, 46, 78, 24, 56]\n",
    "\n",
    "def min_max(data):\n",
    "    mi = min(data)\n",
    "    ma = max(data)\n",
    "    return mi, ma\n",
    "\n",
    "def mean(a):\n",
    "    avg = sum(a) / len(a)\n",
    "    return avg\n",
    "\n",
    "a, b = min_max(listbox)\n",
    "print(a, b)\n",
    "print(b-a)\n",
    "\n",
    "average = mean(listbox)\n",
    "print(average)"
   ]
  },
  {
   "cell_type": "code",
   "execution_count": 241,
   "id": "a725de47-2da5-4c47-80b2-c3380c92c396",
   "metadata": {},
   "outputs": [
    {
     "name": "stdout",
     "output_type": "stream",
     "text": [
      "2.55\n",
      "2.5\n",
      "3\n",
      "빅데이터분석기사 파이썬 스터디\n",
      "['2024', '11', '14']\n",
      "2024년 11월 14일\n"
     ]
    }
   ],
   "source": [
    "# 내장함수 - round(숫자, 출력할 자리수)\n",
    "print(round(2.5472, 2))\n",
    "print(round(2.5472, 1))\n",
    "print(int(round(2.5472, 0)))\n",
    "\n",
    "# replace(변경전문자, 변경후문자)\n",
    "text = '빅데이터분석기사 파이썬 공부'\n",
    "text = text.replace('공부', '스터디')\n",
    "print(text)\n",
    "\n",
    "# 문자열 함수 - split(구분기호 문자) - ':', ';', '/'\n",
    "# 결과가 리스트로 변경됨\n",
    "date = '2024-11-14'\n",
    "date = date.split('-')\n",
    "print(date)\n",
    "print(f'{date[0]}년 {date[1]}월 {date[2]}일')"
   ]
  },
  {
   "cell_type": "code",
   "execution_count": 255,
   "id": "476a7fb8-9f0f-4969-8288-bea045d7b507",
   "metadata": {},
   "outputs": [
    {
     "name": "stdout",
     "output_type": "stream",
     "text": [
      "['orange', 'apple', 'banana']\n"
     ]
    }
   ],
   "source": [
    "fruits = 'orange apple banana'\n",
    "fruits = fruits.split()  # 공백\n",
    "print(fruits)"
   ]
  },
  {
   "cell_type": "markdown",
   "id": "9e99c20e-f634-48e0-9328-809ee9906828",
   "metadata": {},
   "source": [
    "### 모듈 - 파일을 사용(함수, 클래스)가 포함됨\n",
    "import 키워드를 사용"
   ]
  },
  {
   "cell_type": "code",
   "execution_count": 280,
   "id": "41e84060-f713-42a0-bf97-be33af0b4768",
   "metadata": {},
   "outputs": [
    {
     "name": "stdout",
     "output_type": "stream",
     "text": [
      "2024-11-13\n",
      "2024\n",
      "11\n",
      "13\n",
      "2024-11-13 15:20:29.739316\n",
      "15\n",
      "20\n",
      "29\n",
      "2024\n"
     ]
    }
   ],
   "source": [
    "# 날짜와 시간 - datetime, 수학 - math, 게임 - random\n",
    "import datetime\n",
    "\n",
    "# 날짜\n",
    "today = datetime.date.today()\n",
    "print(today)\n",
    "print(today.year)\n",
    "print(today.month)\n",
    "print(today.day)\n",
    "\n",
    "# 날짜와 시간\n",
    "now = datetime.datetime.today()\n",
    "print(now)\n",
    "print(now.hour)\n",
    "print(now.minute)\n",
    "print(now.second)\n",
    "print(now.year)"
   ]
  },
  {
   "cell_type": "code",
   "execution_count": 286,
   "id": "c3a4d478-4a58-4bdf-9b37-b6d062d51aa4",
   "metadata": {},
   "outputs": [
    {
     "name": "stdout",
     "output_type": "stream",
     "text": [
      "2024-10-01\n",
      "<class 'datetime.date'>\n",
      "43 days, 0:00:00\n"
     ]
    }
   ],
   "source": [
    "# 특정한 날짜\n",
    "import datetime\n",
    "\n",
    "the_day = datetime.date(2024, 10, 1)\n",
    "print(the_day)\n",
    "print(type(the_day))\n",
    "\n",
    "today = datetime.date.today()\n",
    "\n",
    "passed_day = today - the_day\n",
    "print(passed_day)"
   ]
  },
  {
   "cell_type": "code",
   "execution_count": 292,
   "id": "1b42638b-c61a-4fab-8920-506caa35cb3f",
   "metadata": {},
   "outputs": [
    {
     "name": "stdout",
     "output_type": "stream",
     "text": [
      "3.141592653589793\n",
      "4\n",
      "5\n"
     ]
    }
   ],
   "source": [
    "import math\n",
    "\n",
    "# 버림, 올림\n",
    "print(math.pi)\n",
    "print(math.floor(4.9)) #버림\n",
    "print(math.ceil(4.9)) #올림"
   ]
  },
  {
   "cell_type": "markdown",
   "id": "e4f5bcfc-8630-43b7-b6b6-00bbfb6a67b7",
   "metadata": {},
   "source": [
    "### 클래스\n",
    "사물을 추상화한 객체 자료형임(* 기본자료형 - int, str, bool)<BR>\n",
    "객체에 대한 속성과 기능을 코드로 구현한 것<br>\n",
    "class 키워드를 사용"
   ]
  },
  {
   "cell_type": "code",
   "execution_count": 299,
   "id": "98774ebe-ff45-44b0-897e-956aea764071",
   "metadata": {},
   "outputs": [
    {
     "name": "stdout",
     "output_type": "stream",
     "text": [
      "생성자\n",
      "이름: 한강\n",
      "학년: 3\n"
     ]
    }
   ],
   "source": [
    "# 학생 클래스 - 학생의 속성과 메서드(함수)ㄹ 구성, 생성자 함수\n",
    "class student:\n",
    "    def __init__(self):\n",
    "        self.name = '한강'\n",
    "        self.grade = 3\n",
    "        print('생성자')\n",
    "\n",
    "# 매개변수(인자)가 없는 클래스\n",
    "s =  student()\n",
    "print('이름:', s.name)\n",
    "print('학년:', s.grade)"
   ]
  },
  {
   "cell_type": "code",
   "execution_count": 303,
   "id": "4d37bb9c-ed4b-45cb-98a2-b73bf9c0ee48",
   "metadata": {},
   "outputs": [
    {
     "name": "stdout",
     "output_type": "stream",
     "text": [
      "이름: 한강, 학년: 3\n",
      "이름: 남산, 학년: 1\n"
     ]
    }
   ],
   "source": [
    "class student:\n",
    "    def __init__(self, name, grade):\n",
    "        self.name = name\n",
    "        self.grade = grade\n",
    "\n",
    "    def student_info(self):\n",
    "        return f'이름: {self.name}, 학년: {self.grade}'\n",
    "\n",
    "s1 = student('한강', 3)\n",
    "print(s1.student_info())\n",
    "\n",
    "s2 = student('남산', 1)\n",
    "print(s2.student_info())"
   ]
  },
  {
   "cell_type": "code",
   "execution_count": null,
   "id": "52be5d1f-ba96-4e28-b4d8-a78fa0458f34",
   "metadata": {},
   "outputs": [],
   "source": []
  }
 ],
 "metadata": {
  "kernelspec": {
   "display_name": "Python 3 (ipykernel)",
   "language": "python",
   "name": "python3"
  },
  "language_info": {
   "codemirror_mode": {
    "name": "ipython",
    "version": 3
   },
   "file_extension": ".py",
   "mimetype": "text/x-python",
   "name": "python",
   "nbconvert_exporter": "python",
   "pygments_lexer": "ipython3",
   "version": "3.12.7"
  }
 },
 "nbformat": 4,
 "nbformat_minor": 5
}
